{
 "cells": [
  {
   "cell_type": "code",
   "execution_count": 4,
   "id": "207a0d38",
   "metadata": {},
   "outputs": [],
   "source": [
    "import pandas as pd"
   ]
  },
  {
   "cell_type": "code",
   "execution_count": 5,
   "id": "e8cba259",
   "metadata": {},
   "outputs": [],
   "source": [
    "dataset = pd.DataFrame(data={'Color': ['G','Y','R','R','Y'],\n",
    "                             'Diameter': [3,3,1,1,3],\n",
    "                             'Label': ['A','A','G','G','L']})"
   ]
  },
  {
   "cell_type": "code",
   "execution_count": 6,
   "id": "cb8390c7",
   "metadata": {},
   "outputs": [
    {
     "data": {
      "text/html": [
       "<div>\n",
       "<style scoped>\n",
       "    .dataframe tbody tr th:only-of-type {\n",
       "        vertical-align: middle;\n",
       "    }\n",
       "\n",
       "    .dataframe tbody tr th {\n",
       "        vertical-align: top;\n",
       "    }\n",
       "\n",
       "    .dataframe thead th {\n",
       "        text-align: right;\n",
       "    }\n",
       "</style>\n",
       "<table border=\"1\" class=\"dataframe\">\n",
       "  <thead>\n",
       "    <tr style=\"text-align: right;\">\n",
       "      <th></th>\n",
       "      <th>Color</th>\n",
       "      <th>Diameter</th>\n",
       "      <th>Label</th>\n",
       "    </tr>\n",
       "  </thead>\n",
       "  <tbody>\n",
       "    <tr>\n",
       "      <th>0</th>\n",
       "      <td>G</td>\n",
       "      <td>3</td>\n",
       "      <td>A</td>\n",
       "    </tr>\n",
       "    <tr>\n",
       "      <th>1</th>\n",
       "      <td>Y</td>\n",
       "      <td>3</td>\n",
       "      <td>A</td>\n",
       "    </tr>\n",
       "    <tr>\n",
       "      <th>2</th>\n",
       "      <td>R</td>\n",
       "      <td>1</td>\n",
       "      <td>G</td>\n",
       "    </tr>\n",
       "    <tr>\n",
       "      <th>3</th>\n",
       "      <td>R</td>\n",
       "      <td>1</td>\n",
       "      <td>G</td>\n",
       "    </tr>\n",
       "    <tr>\n",
       "      <th>4</th>\n",
       "      <td>Y</td>\n",
       "      <td>3</td>\n",
       "      <td>L</td>\n",
       "    </tr>\n",
       "  </tbody>\n",
       "</table>\n",
       "</div>"
      ],
      "text/plain": [
       "  Color  Diameter Label\n",
       "0     G         3     A\n",
       "1     Y         3     A\n",
       "2     R         1     G\n",
       "3     R         1     G\n",
       "4     Y         3     L"
      ]
     },
     "execution_count": 6,
     "metadata": {},
     "output_type": "execute_result"
    }
   ],
   "source": [
    "dataset"
   ]
  },
  {
   "cell_type": "code",
   "execution_count": null,
   "id": "184da746",
   "metadata": {},
   "outputs": [],
   "source": []
  },
  {
   "cell_type": "markdown",
   "id": "ac14d962",
   "metadata": {},
   "source": [
    "# Algorithm(steps) :-\n",
    "\n",
    "Build_Tree()\n",
    "\n",
    "    --> Find Best split\n",
    "\n",
    "        - Find current Impurity\n",
    "\n",
    "        - For each column-value combination:\n",
    "\n",
    "            * Create a question object containing values for column and val. (To be used later for partitioning)\n",
    "\n",
    "            * Partition data into left and right branches\n",
    "\n",
    "            * If either partition size == 0, then skip current interation\n",
    "\n",
    "            * information_gain = current_impurity - average_impurity of partitioned left and right branches\n",
    "\n",
    "            * If information_gain > best_gain, then best_gain, best_question = information_gain, question\n",
    "\n",
    "        - return best_gain, best_question\n",
    "\n",
    "    --> If gain == 0 then return as Leaf_node(row)\n",
    "    --> left, right = partition(rows)\n",
    "    --> left branch = Build_Tree(left)\n",
    "    --> right branch = Build_Tree(right)\n",
    "    --> return Decision_Node(best_question, left branch, right branch)"
   ]
  },
  {
   "cell_type": "markdown",
   "id": "2bf57f6c",
   "metadata": {},
   "source": []
  },
  {
   "cell_type": "code",
   "execution_count": null,
   "id": "809cf04a",
   "metadata": {},
   "outputs": [],
   "source": [
    "class Question:\n",
    "    \n",
    "    def __init__(self, col, value):\n",
    "        self.column = col\n",
    "        self.value = value\n",
    "    \n",
    "    def match(self, row):\n",
    "        val = row[self.column]\n",
    "        if isinstance(val, int) or isinstance(val, float):\n",
    "            return val >= self.value\n",
    "        else:\n",
    "            return val == self.value\n"
   ]
  },
  {
   "cell_type": "code",
   "execution_count": null,
   "id": "3f3307b5",
   "metadata": {},
   "outputs": [],
   "source": [
    "def class_counts(rows):\n",
    "    counts = {}\n",
    "    for row in rows:\n",
    "        label = row[-1]\n",
    "        if label not in counts:\n",
    "            counts[label] = 0\n",
    "        counts[label] += 1\n",
    "    return counts"
   ]
  },
  {
   "cell_type": "code",
   "execution_count": null,
   "id": "d352e4b8",
   "metadata": {},
   "outputs": [],
   "source": [
    "def gini(rows):\n",
    "    class_count = class_counts(rows)\n",
    "    impurity = 1\n",
    "    for each in class_count.keys():\n",
    "        impurity -= (class_count[each] / len(rows))**2\n",
    "    return impurity"
   ]
  },
  {
   "cell_type": "code",
   "execution_count": null,
   "id": "67ea9f00",
   "metadata": {},
   "outputs": [],
   "source": [
    "def partition(rows, question):\n",
    "    left_rows, right_rows = [], []\n",
    "    for row in rows:\n",
    "        if question.match(row):\n",
    "            left_rows.append(row)\n",
    "        else:\n",
    "            right_rows.append(row)\n",
    "    return left_rows, right_rows"
   ]
  },
  {
   "cell_type": "code",
   "execution_count": null,
   "id": "0a8cf4c6",
   "metadata": {},
   "outputs": [],
   "source": [
    "def information_gain(left_rows, right_rows, current_impurity):\n",
    "    weights = len(left_rows) / (len(left_rows) + len(right_rows))\n",
    "    return current_impurity - weights * gini(left_rows) - (1-weights) * gini(right_rows)"
   ]
  },
  {
   "cell_type": "code",
   "execution_count": null,
   "id": "39aea427",
   "metadata": {},
   "outputs": [],
   "source": [
    "def best_split(rows):\n",
    "    best_gain = 0\n",
    "    best_question = None\n",
    "    current_impurity = gini(rows)\n",
    "    n_features = len(rows[0]) - 1\n",
    "    \n",
    "    for col in range(n_features-1):\n",
    "        values = set([row[col] for row in rows])\n",
    "        \n",
    "        for val in values:\n",
    "            # Creating Question Class/object instead of function because (col and val) values \n",
    "            # need to be stored for each column and value combination, which will be used later\n",
    "            question = Question(col, val)\n",
    "            \n",
    "            left_rows, right_rows = partition(rows, question)\n",
    "\n",
    "            if len(left_rows)==0 or len(right_rows)==0:\n",
    "                continue\n",
    "\n",
    "            gain = information_gain(left_rows, right_rows, current_impurity)\n",
    "\n",
    "            if gain > best_gain:\n",
    "                best_gain, best_question = gain, question\n",
    "    \n",
    "    return best_gain, best_question"
   ]
  },
  {
   "cell_type": "code",
   "execution_count": null,
   "id": "fe397716",
   "metadata": {},
   "outputs": [],
   "source": [
    "class Leaf(rows):\n",
    "\n",
    "    def __init__(self, rows):\n",
    "        self.predictions = class_counts(rows)"
   ]
  },
  {
   "cell_type": "code",
   "execution_count": null,
   "id": "071c289b",
   "metadata": {},
   "outputs": [],
   "source": [
    "class DecisionNode:\n",
    "    \n",
    "    def __init__(self, left_branch, right_branch, question):\n",
    "        self.left_branch = left_branch\n",
    "        self.right_branch = right_branch\n",
    "        self.question = question"
   ]
  },
  {
   "cell_type": "code",
   "execution_count": null,
   "id": "00f11a0b",
   "metadata": {},
   "outputs": [],
   "source": [
    "def build_tree(rows):\n",
    "    gain, question = best_split(rows)\n",
    "\n",
    "    if gain == 0:\n",
    "        return Leaf(rows)\n",
    "    \n",
    "    left_rows, right_rows = partition(rows, question)\n",
    "\n",
    "    left_branch = build_tree(left_rows)\n",
    "    right_branch = build_tree(right_rows)\n",
    "\n",
    "    return DecisionNode(left_branch, right_branch, question)\n"
   ]
  },
  {
   "cell_type": "code",
   "execution_count": null,
   "id": "589a9598",
   "metadata": {},
   "outputs": [],
   "source": []
  }
 ],
 "metadata": {
  "kernelspec": {
   "display_name": "Python 3.9.5 64-bit",
   "language": "python",
   "name": "python3"
  },
  "language_info": {
   "codemirror_mode": {
    "name": "ipython",
    "version": 3
   },
   "file_extension": ".py",
   "mimetype": "text/x-python",
   "name": "python",
   "nbconvert_exporter": "python",
   "pygments_lexer": "ipython3",
   "version": "3.9.5"
  },
  "vscode": {
   "interpreter": {
    "hash": "73126e60cb0ba176a96708a09f55ac39b8d18ea222274626eec6d903f8c21f2e"
   }
  }
 },
 "nbformat": 4,
 "nbformat_minor": 5
}
