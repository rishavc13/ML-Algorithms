{
 "cells": [
  {
   "cell_type": "code",
   "execution_count": 4,
   "id": "207a0d38",
   "metadata": {},
   "outputs": [],
   "source": [
    "import pandas as pd"
   ]
  },
  {
   "cell_type": "code",
   "execution_count": 5,
   "id": "e8cba259",
   "metadata": {},
   "outputs": [],
   "source": [
    "dataset = pd.DataFrame(data={'Color': ['G','Y','R','R','Y'],\n",
    "                             'Diameter': [3,3,1,1,3],\n",
    "                             'Label': ['A','A','G','G','L']})"
   ]
  },
  {
   "cell_type": "code",
   "execution_count": 6,
   "id": "cb8390c7",
   "metadata": {},
   "outputs": [
    {
     "data": {
      "text/html": [
       "<div>\n",
       "<style scoped>\n",
       "    .dataframe tbody tr th:only-of-type {\n",
       "        vertical-align: middle;\n",
       "    }\n",
       "\n",
       "    .dataframe tbody tr th {\n",
       "        vertical-align: top;\n",
       "    }\n",
       "\n",
       "    .dataframe thead th {\n",
       "        text-align: right;\n",
       "    }\n",
       "</style>\n",
       "<table border=\"1\" class=\"dataframe\">\n",
       "  <thead>\n",
       "    <tr style=\"text-align: right;\">\n",
       "      <th></th>\n",
       "      <th>Color</th>\n",
       "      <th>Diameter</th>\n",
       "      <th>Label</th>\n",
       "    </tr>\n",
       "  </thead>\n",
       "  <tbody>\n",
       "    <tr>\n",
       "      <th>0</th>\n",
       "      <td>G</td>\n",
       "      <td>3</td>\n",
       "      <td>A</td>\n",
       "    </tr>\n",
       "    <tr>\n",
       "      <th>1</th>\n",
       "      <td>Y</td>\n",
       "      <td>3</td>\n",
       "      <td>A</td>\n",
       "    </tr>\n",
       "    <tr>\n",
       "      <th>2</th>\n",
       "      <td>R</td>\n",
       "      <td>1</td>\n",
       "      <td>G</td>\n",
       "    </tr>\n",
       "    <tr>\n",
       "      <th>3</th>\n",
       "      <td>R</td>\n",
       "      <td>1</td>\n",
       "      <td>G</td>\n",
       "    </tr>\n",
       "    <tr>\n",
       "      <th>4</th>\n",
       "      <td>Y</td>\n",
       "      <td>3</td>\n",
       "      <td>L</td>\n",
       "    </tr>\n",
       "  </tbody>\n",
       "</table>\n",
       "</div>"
      ],
      "text/plain": [
       "  Color  Diameter Label\n",
       "0     G         3     A\n",
       "1     Y         3     A\n",
       "2     R         1     G\n",
       "3     R         1     G\n",
       "4     Y         3     L"
      ]
     },
     "execution_count": 6,
     "metadata": {},
     "output_type": "execute_result"
    }
   ],
   "source": [
    "dataset"
   ]
  },
  {
   "cell_type": "code",
   "execution_count": null,
   "id": "184da746",
   "metadata": {},
   "outputs": [],
   "source": []
  },
  {
   "cell_type": "markdown",
   "id": "ac14d962",
   "metadata": {},
   "source": [
    "# Algorithm(steps) :-\n",
    "\n",
    "Build_Tree()\n",
    "\n",
    "    --> Find Best split\n",
    "\n",
    "        - Find current Impurity\n",
    "\n",
    "        - For each column-value combination:\n",
    "\n",
    "            * Create a question object containing values for column and val. (To be used later for partitioning)\n",
    "\n",
    "            * Partition data into left and right branches\n",
    "\n",
    "            * If either partition size == 0, then skip current interation\n",
    "\n",
    "            * information_gain = current_impurity - average_impurity of partitioned left and right branches\n",
    "\n",
    "            * If information_gain > best_gain, then best_gain, best_question = information_gain, question\n",
    "\n",
    "        - return best_gain, best_question\n",
    "\n",
    "    --> If gain == 0 then return as Leaf_node(row)\n",
    "    --> left, right = partition(rows)\n",
    "    --> left branch = Build_Tree(left)\n",
    "    --> right branch = Build_Tree(right)\n",
    "    --> return Decision_Node(best_question, left branch, right branch)"
   ]
  },
  {
   "cell_type": "markdown",
   "id": "2bf57f6c",
   "metadata": {},
   "source": []
  },
  {
   "cell_type": "code",
   "execution_count": null,
   "id": "809cf04a",
   "metadata": {},
   "outputs": [],
   "source": [
    "class Question:\n",
    "    \n",
    "    def __init__(self, col, value):\n",
    "        self.column = col\n",
    "        self.value = value"
   ]
  },
  {
   "cell_type": "code",
   "execution_count": null,
   "id": "d352e4b8",
   "metadata": {},
   "outputs": [],
   "source": [
    "def gini(rows):\n",
    "    class_count = {}\n",
    "    for row in rows:\n",
    "        label = row[-1]\n",
    "        if label not in class_count.items():\n",
    "            class_count[label] = 0\n",
    "        class_count[label] += 1\n",
    "    impurity = 1\n",
    "    for each in class_count.keys():\n",
    "        impurity -= (class_count[each] / len(rows))**2\n",
    "    return impurity"
   ]
  },
  {
   "cell_type": "code",
   "execution_count": null,
   "id": "67ea9f00",
   "metadata": {},
   "outputs": [],
   "source": [
    "def partition(rows, question):\n",
    "    left_rows, right_rows = question.match()"
   ]
  },
  {
   "cell_type": "code",
   "execution_count": null,
   "id": "39aea427",
   "metadata": {},
   "outputs": [],
   "source": [
    "def best_split(rows):\n",
    "    current_impurity = gini(rows)\n",
    "    \n",
    "    for col in range(n_features-1):\n",
    "        values = set([row[col] for row in rows])\n",
    "        \n",
    "        for val in values:\n",
    "            # Creating Question Class/object instead of function because (col and val) values \n",
    "            # need to be stored for each column and value combination, which will be used later\n",
    "            question = Question(col, val)\n",
    "            \n",
    "            left_rows, right_rows = partition(rows, question)\n",
    "            "
   ]
  },
  {
   "cell_type": "code",
   "execution_count": null,
   "id": "00f11a0b",
   "metadata": {},
   "outputs": [],
   "source": [
    "def build_tree(rows):\n",
    "    gain, question = best_split(rows)"
   ]
  },
  {
   "cell_type": "code",
   "execution_count": null,
   "id": "589a9598",
   "metadata": {},
   "outputs": [],
   "source": []
  }
 ],
 "metadata": {
  "kernelspec": {
   "display_name": "Python 3.9.5 64-bit",
   "language": "python",
   "name": "python3"
  },
  "language_info": {
   "codemirror_mode": {
    "name": "ipython",
    "version": 3
   },
   "file_extension": ".py",
   "mimetype": "text/x-python",
   "name": "python",
   "nbconvert_exporter": "python",
   "pygments_lexer": "ipython3",
   "version": "3.9.5"
  },
  "vscode": {
   "interpreter": {
    "hash": "73126e60cb0ba176a96708a09f55ac39b8d18ea222274626eec6d903f8c21f2e"
   }
  }
 },
 "nbformat": 4,
 "nbformat_minor": 5
}
